{
 "cells": [
  {
   "cell_type": "code",
   "execution_count": 1,
   "metadata": {},
   "outputs": [],
   "source": [
    "#########################################################################################################################\n",
    "# Kurs: Data science, studia zaoczne, Informatyka w Biznesie\n",
    "# Data ostatniej poprawki: 04.12.2018\n",
    "# Autorzy: Mariusz Czarny, Juliusz Sadowski, Anita\n",
    "\n",
    "# Celem projektu jest zastosowanie języka Python przy użyciu bibliotek pandas, nympy, itp., aby wykonać analizę danych.\n",
    "# Danymi źródłowymi są pliki tekstowe: campaigns.txt, customers.txt, orderlines.txt, orders.txt, products.txt pobrane z\n",
    "# serwera: https://drive.google.com/drive/folders/0B1A_5ELLOtW4VXgwOG1oZmhpS0k\n",
    "# Ścieżka źródłowa dla plików: powinny znajdować się w tym samym katalogu co plik projektowy\n",
    "# Wersja pythona: 3.6.3\n",
    "# Plik dostępny jest także pod linkiem: \n",
    "\n",
    "# User story: \n",
    "#########################################################################################################################"
   ]
  },
  {
   "cell_type": "code",
   "execution_count": 2,
   "metadata": {},
   "outputs": [],
   "source": [
    "# import wewenętrznej bazy danych\n",
    "import sqlite3"
   ]
  },
  {
   "cell_type": "code",
   "execution_count": 3,
   "metadata": {},
   "outputs": [],
   "source": [
    "# import standardowych bibliotek\n",
    "import pandas as pd\n",
    "import numpy as np\n",
    "import os"
   ]
  },
  {
   "cell_type": "code",
   "execution_count": 4,
   "metadata": {},
   "outputs": [],
   "source": [
    "# import bibliotek służących do wizualizacji\n",
    "import matplotlib.pyplot as plt\n",
    "import seaborn as sns\n",
    "sns.set_style('whitegrid')\n",
    "%matplotlib inline"
   ]
  },
  {
   "cell_type": "code",
   "execution_count": 5,
   "metadata": {},
   "outputs": [
    {
     "data": {
      "text/plain": [
       "'C:\\\\Users\\\\Mariusz\\\\studia\\\\3 semestr\\\\Data science\\\\my project'"
      ]
     },
     "execution_count": 5,
     "metadata": {},
     "output_type": "execute_result"
    }
   ],
   "source": [
    "# sprawdza aktualną ścieżkę\n",
    "%pwd"
   ]
  },
  {
   "cell_type": "code",
   "execution_count": 6,
   "metadata": {},
   "outputs": [],
   "source": [
    "# połączenie z bazą i wykorzystanie kursora\n",
    "dbConnection = sqlite3.connect(\"bookdb\");\n",
    "dbCursor = dbConnection.cursor()"
   ]
  },
  {
   "cell_type": "code",
   "execution_count": 7,
   "metadata": {},
   "outputs": [],
   "source": [
    "# rozszerzenie plików zawierających dane do wczytania\n",
    "txtExtention = \".txt\""
   ]
  },
  {
   "cell_type": "code",
   "execution_count": 8,
   "metadata": {},
   "outputs": [],
   "source": [
    "# tablica z nazwami plików do oczytu, zawierające dane, które będą importowane do tabel bazodanowych\n",
    "tables = [\"Customers\", \"Orderlines\", \"Products\", \"Campaigns\", \"Orders\"]"
   ]
  },
  {
   "cell_type": "code",
   "execution_count": 9,
   "metadata": {},
   "outputs": [],
   "source": [
    "# wczytywanie kolejnych plików w pętli for\n",
    "for table in tables:\n",
    "    # ustawienie scieżki (nazwy plików pisane małymy literami)\n",
    "    path = os.path.expanduser(table.lower() + txtExtention)\n",
    "    # wczytywanie pliku używając delimitera tabulacji oraz kodowania 'latin1'\n",
    "    file = pd.read_csv(path, delimiter=\"\\t\", encoding = 'latin1')\n",
    "    # tworzy na podstawie pliku tabele i wypełnia ją rekordami, jesli istnieje zostaje nadpisana\n",
    "    file.to_sql(table, dbConnection, if_exists=\"replace\");"
   ]
  }
 ],
 "metadata": {
  "kernelspec": {
   "display_name": "Python 3",
   "language": "python",
   "name": "python3"
  },
  "language_info": {
   "codemirror_mode": {
    "name": "ipython",
    "version": 3
   },
   "file_extension": ".py",
   "mimetype": "text/x-python",
   "name": "python",
   "nbconvert_exporter": "python",
   "pygments_lexer": "ipython3",
   "version": "3.7.0"
  }
 },
 "nbformat": 4,
 "nbformat_minor": 2
}
