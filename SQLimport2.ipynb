{
 "cells": [
  {
   "cell_type": "code",
   "execution_count": 1,
   "metadata": {
    "collapsed": true
   },
   "outputs": [],
   "source": [
    "# import wewenątrznej bazy danych\n",
    "import sqlite3"
   ]
  },
  {
   "cell_type": "code",
   "execution_count": 2,
   "metadata": {
    "collapsed": true
   },
   "outputs": [],
   "source": [
    "# import standardowych bibliotek\n",
    "import pandas as pd\n",
    "import numpy as np\n",
    "import os"
   ]
  },
  {
   "cell_type": "code",
   "execution_count": 3,
   "metadata": {
    "collapsed": true
   },
   "outputs": [],
   "source": [
    "# import bibliotek służących do wizualizacji\n",
    "import matplotlib.pyplot as plt\n",
    "import seaborn as sns\n",
    "sns.set_style('whitegrid')\n",
    "%matplotlib inline"
   ]
  },
  {
   "cell_type": "code",
   "execution_count": 6,
   "metadata": {},
   "outputs": [
    {
     "ename": "NameError",
     "evalue": "name 'pwd' is not defined",
     "output_type": "error",
     "traceback": [
      "\u001b[1;31m---------------------------------------------------------------------------\u001b[0m",
      "\u001b[1;31mNameError\u001b[0m                                 Traceback (most recent call last)",
      "\u001b[1;32m<ipython-input-6-9f8f653b217a>\u001b[0m in \u001b[0;36m<module>\u001b[1;34m()\u001b[0m\n\u001b[0;32m      1\u001b[0m \u001b[1;31m# sprawdza aktualną ścieżkę\u001b[0m\u001b[1;33m\u001b[0m\u001b[1;33m\u001b[0m\u001b[0m\n\u001b[1;32m----> 2\u001b[1;33m \u001b[0mpwd\u001b[0m\u001b[1;33m\u001b[0m\u001b[0m\n\u001b[0m",
      "\u001b[1;31mNameError\u001b[0m: name 'pwd' is not defined"
     ]
    }
   ],
   "source": [
    "# sprawdza aktualną ścieżkę\n",
    "pwd"
   ]
  },
  {
   "cell_type": "code",
   "execution_count": 5,
   "metadata": {
    "collapsed": true
   },
   "outputs": [],
   "source": [
    "# połączenie z bazą i wykorzystanie kursora\n",
    "dbConnection = sqlite3.connect(\"bookdb\");\n",
    "dbCursor = dbConnection.cursor()"
   ]
  },
  {
   "cell_type": "code",
   "execution_count": 7,
   "metadata": {
    "collapsed": true
   },
   "outputs": [],
   "source": [
    "# rozszerzenie plików zawierających dane do wczytania\n",
    "txtExtention = \".txt\""
   ]
  },
  {
   "cell_type": "code",
   "execution_count": 8,
   "metadata": {
    "collapsed": true
   },
   "outputs": [],
   "source": [
    "# tablica z nazwami plików do oczytu, zawierające dane, które będą importowane do tabel bazodanowych\n",
    "tables = [\"Customers\", \"Orderlines\", \"Products\", \"Campaigns\", \"Orders\"]"
   ]
  },
  {
   "cell_type": "code",
   "execution_count": 9,
   "metadata": {
    "collapsed": true
   },
   "outputs": [],
   "source": [
    "# wczytywanie kolejnych plików w pętli for\n",
    "for table in tables:\n",
    "    # ustawienie sciezki (nazwy plikow pisane malymy literami)\n",
    "    path = os.path.expanduser(table.lower() + txtExtention)\n",
    "    # wczytywanie pliku używając delimitera tabulacji oraz kodowania 'latin1'\n",
    "    file = pd.read_csv(path, delimiter=\"\\t\", encoding = 'latin1')\n",
    "    # tworzy na podstawie pliku tabele i wypełnia ją rekordami, jesli instnieje zostaje nadpisana\n",
    "    file.to_sql(table, dbConnection, if_exists=\"replace\");"
   ]
  },
  {
   "cell_type": "code",
   "execution_count": 10,
   "metadata": {
    "collapsed": true
   },
   "outputs": [],
   "source": [
    "# pobranie informacji do DataFrame\n",
    "selectGenderQuery = '''SELECT o.orderdate, c.gender, c.firstname from Orders o join Customers c on o.customerid = c.customerid '''\n",
    "genderDF = pd.read_sql_query(selectGenderQuery, dbConnection)"
   ]
  },
  {
   "cell_type": "code",
   "execution_count": 11,
   "metadata": {},
   "outputs": [
    {
     "data": {
      "text/html": [
       "<div>\n",
       "<style>\n",
       "    .dataframe thead tr:only-child th {\n",
       "        text-align: right;\n",
       "    }\n",
       "\n",
       "    .dataframe thead th {\n",
       "        text-align: left;\n",
       "    }\n",
       "\n",
       "    .dataframe tbody tr th {\n",
       "        vertical-align: top;\n",
       "    }\n",
       "</style>\n",
       "<table border=\"1\" class=\"dataframe\">\n",
       "  <thead>\n",
       "    <tr style=\"text-align: right;\">\n",
       "      <th></th>\n",
       "      <th>orderdate</th>\n",
       "      <th>gender</th>\n",
       "      <th>firstname</th>\n",
       "    </tr>\n",
       "  </thead>\n",
       "  <tbody>\n",
       "    <tr>\n",
       "      <th>0</th>\n",
       "      <td>2009-10-13 00:00:00</td>\n",
       "      <td>M</td>\n",
       "      <td>LOUIS</td>\n",
       "    </tr>\n",
       "    <tr>\n",
       "      <th>1</th>\n",
       "      <td>2009-10-13 00:00:00</td>\n",
       "      <td>M</td>\n",
       "      <td>ANTHONY</td>\n",
       "    </tr>\n",
       "    <tr>\n",
       "      <th>2</th>\n",
       "      <td>2011-06-02 00:00:00</td>\n",
       "      <td>None</td>\n",
       "      <td>MERRILL</td>\n",
       "    </tr>\n",
       "    <tr>\n",
       "      <th>3</th>\n",
       "      <td>2009-10-14 00:00:00</td>\n",
       "      <td>F</td>\n",
       "      <td>MARIA</td>\n",
       "    </tr>\n",
       "    <tr>\n",
       "      <th>4</th>\n",
       "      <td>2010-11-19 00:00:00</td>\n",
       "      <td>None</td>\n",
       "      <td>T.</td>\n",
       "    </tr>\n",
       "  </tbody>\n",
       "</table>\n",
       "</div>"
      ],
      "text/plain": [
       "             orderdate gender firstname\n",
       "0  2009-10-13 00:00:00      M     LOUIS\n",
       "1  2009-10-13 00:00:00      M   ANTHONY\n",
       "2  2011-06-02 00:00:00   None   MERRILL\n",
       "3  2009-10-14 00:00:00      F     MARIA\n",
       "4  2010-11-19 00:00:00   None        T."
      ]
     },
     "execution_count": 11,
     "metadata": {},
     "output_type": "execute_result"
    }
   ],
   "source": [
    "# sprawdzanie czy rekordy się wczytały\n",
    "genderDF.head()"
   ]
  },
  {
   "cell_type": "code",
   "execution_count": 12,
   "metadata": {
    "collapsed": true
   },
   "outputs": [],
   "source": [
    "# usunięcie niepotrzebnych wartosci z daty do roku i konwersja typu na typ całkowity\n",
    "genderDF[\"orderdate\"] = genderDF[\"orderdate\"].str[:-15].astype(np.int64)"
   ]
  },
  {
   "cell_type": "code",
   "execution_count": 13,
   "metadata": {
    "collapsed": true
   },
   "outputs": [],
   "source": [
    "# ustawienie wyników na daty większe niż 2015 rok \n",
    "genderDF = genderDF[genderDF[\"orderdate\"] >= 2015]"
   ]
  },
  {
   "cell_type": "code",
   "execution_count": 14,
   "metadata": {},
   "outputs": [
    {
     "data": {
      "text/html": [
       "<div>\n",
       "<style>\n",
       "    .dataframe thead tr:only-child th {\n",
       "        text-align: right;\n",
       "    }\n",
       "\n",
       "    .dataframe thead th {\n",
       "        text-align: left;\n",
       "    }\n",
       "\n",
       "    .dataframe tbody tr th {\n",
       "        vertical-align: top;\n",
       "    }\n",
       "</style>\n",
       "<table border=\"1\" class=\"dataframe\">\n",
       "  <thead>\n",
       "    <tr style=\"text-align: right;\">\n",
       "      <th></th>\n",
       "      <th>gender</th>\n",
       "      <th>firstname</th>\n",
       "    </tr>\n",
       "    <tr>\n",
       "      <th>year</th>\n",
       "      <th></th>\n",
       "      <th></th>\n",
       "    </tr>\n",
       "  </thead>\n",
       "  <tbody>\n",
       "    <tr>\n",
       "      <th>2015</th>\n",
       "      <td>M</td>\n",
       "      <td>PAUL</td>\n",
       "    </tr>\n",
       "    <tr>\n",
       "      <th>2015</th>\n",
       "      <td>M</td>\n",
       "      <td>STEVEN</td>\n",
       "    </tr>\n",
       "    <tr>\n",
       "      <th>2015</th>\n",
       "      <td>M</td>\n",
       "      <td>EDWARD</td>\n",
       "    </tr>\n",
       "    <tr>\n",
       "      <th>2015</th>\n",
       "      <td>M</td>\n",
       "      <td>ALLEN</td>\n",
       "    </tr>\n",
       "    <tr>\n",
       "      <th>2015</th>\n",
       "      <td>M</td>\n",
       "      <td>GREGORY</td>\n",
       "    </tr>\n",
       "    <tr>\n",
       "      <th>2015</th>\n",
       "      <td>F</td>\n",
       "      <td>LINDA</td>\n",
       "    </tr>\n",
       "    <tr>\n",
       "      <th>2015</th>\n",
       "      <td>F</td>\n",
       "      <td>WILMA</td>\n",
       "    </tr>\n",
       "    <tr>\n",
       "      <th>2015</th>\n",
       "      <td>F</td>\n",
       "      <td>SUZANNE</td>\n",
       "    </tr>\n",
       "    <tr>\n",
       "      <th>2015</th>\n",
       "      <td>M</td>\n",
       "      <td>RICHARD</td>\n",
       "    </tr>\n",
       "    <tr>\n",
       "      <th>2015</th>\n",
       "      <td>M</td>\n",
       "      <td>STEPHEN</td>\n",
       "    </tr>\n",
       "    <tr>\n",
       "      <th>2015</th>\n",
       "      <td>F</td>\n",
       "      <td>SHEILA</td>\n",
       "    </tr>\n",
       "    <tr>\n",
       "      <th>2015</th>\n",
       "      <td>F</td>\n",
       "      <td>CHARLES</td>\n",
       "    </tr>\n",
       "    <tr>\n",
       "      <th>2015</th>\n",
       "      <td>F</td>\n",
       "      <td>NOELLA</td>\n",
       "    </tr>\n",
       "    <tr>\n",
       "      <th>2015</th>\n",
       "      <td>F</td>\n",
       "      <td>LYNNE</td>\n",
       "    </tr>\n",
       "    <tr>\n",
       "      <th>2015</th>\n",
       "      <td>M</td>\n",
       "      <td>MURRAY</td>\n",
       "    </tr>\n",
       "    <tr>\n",
       "      <th>2015</th>\n",
       "      <td>M</td>\n",
       "      <td>ROBERT</td>\n",
       "    </tr>\n",
       "    <tr>\n",
       "      <th>2015</th>\n",
       "      <td>F</td>\n",
       "      <td>ALICE</td>\n",
       "    </tr>\n",
       "    <tr>\n",
       "      <th>2015</th>\n",
       "      <td>F</td>\n",
       "      <td>MARGARET</td>\n",
       "    </tr>\n",
       "    <tr>\n",
       "      <th>2015</th>\n",
       "      <td>M</td>\n",
       "      <td>MARTIN</td>\n",
       "    </tr>\n",
       "    <tr>\n",
       "      <th>2015</th>\n",
       "      <td>M</td>\n",
       "      <td>JAMES</td>\n",
       "    </tr>\n",
       "    <tr>\n",
       "      <th>2015</th>\n",
       "      <td>F</td>\n",
       "      <td>LILLIAN</td>\n",
       "    </tr>\n",
       "    <tr>\n",
       "      <th>2015</th>\n",
       "      <td>M</td>\n",
       "      <td>ROBERT</td>\n",
       "    </tr>\n",
       "    <tr>\n",
       "      <th>2015</th>\n",
       "      <td>F</td>\n",
       "      <td>JEANETTE</td>\n",
       "    </tr>\n",
       "    <tr>\n",
       "      <th>2015</th>\n",
       "      <td>F</td>\n",
       "      <td>GAYLE</td>\n",
       "    </tr>\n",
       "    <tr>\n",
       "      <th>2015</th>\n",
       "      <td>M</td>\n",
       "      <td>KEITH</td>\n",
       "    </tr>\n",
       "    <tr>\n",
       "      <th>2015</th>\n",
       "      <td>F</td>\n",
       "      <td>BARBARA</td>\n",
       "    </tr>\n",
       "    <tr>\n",
       "      <th>2015</th>\n",
       "      <td>F</td>\n",
       "      <td>SANDRA</td>\n",
       "    </tr>\n",
       "    <tr>\n",
       "      <th>2015</th>\n",
       "      <td>M</td>\n",
       "      <td>CHARLES</td>\n",
       "    </tr>\n",
       "    <tr>\n",
       "      <th>2015</th>\n",
       "      <td>F</td>\n",
       "      <td>DIANE</td>\n",
       "    </tr>\n",
       "    <tr>\n",
       "      <th>2015</th>\n",
       "      <td>M</td>\n",
       "      <td>KEN</td>\n",
       "    </tr>\n",
       "    <tr>\n",
       "      <th>...</th>\n",
       "      <td>...</td>\n",
       "      <td>...</td>\n",
       "    </tr>\n",
       "    <tr>\n",
       "      <th>2016</th>\n",
       "      <td>M</td>\n",
       "      <td>HOWARD</td>\n",
       "    </tr>\n",
       "    <tr>\n",
       "      <th>2016</th>\n",
       "      <td>M</td>\n",
       "      <td>BILL</td>\n",
       "    </tr>\n",
       "    <tr>\n",
       "      <th>2016</th>\n",
       "      <td>F</td>\n",
       "      <td>AJAYA</td>\n",
       "    </tr>\n",
       "    <tr>\n",
       "      <th>2016</th>\n",
       "      <td>M</td>\n",
       "      <td>TONY</td>\n",
       "    </tr>\n",
       "    <tr>\n",
       "      <th>2016</th>\n",
       "      <td>M</td>\n",
       "      <td>MARC</td>\n",
       "    </tr>\n",
       "    <tr>\n",
       "      <th>2016</th>\n",
       "      <td>F</td>\n",
       "      <td>ANN</td>\n",
       "    </tr>\n",
       "    <tr>\n",
       "      <th>2016</th>\n",
       "      <td>M</td>\n",
       "      <td>LUIZ</td>\n",
       "    </tr>\n",
       "    <tr>\n",
       "      <th>2016</th>\n",
       "      <td>M</td>\n",
       "      <td>DANIEL</td>\n",
       "    </tr>\n",
       "    <tr>\n",
       "      <th>2016</th>\n",
       "      <td>M</td>\n",
       "      <td>TONY</td>\n",
       "    </tr>\n",
       "    <tr>\n",
       "      <th>2016</th>\n",
       "      <td>F</td>\n",
       "      <td>DEBORA</td>\n",
       "    </tr>\n",
       "    <tr>\n",
       "      <th>2016</th>\n",
       "      <td>F</td>\n",
       "      <td>CAROL</td>\n",
       "    </tr>\n",
       "    <tr>\n",
       "      <th>2016</th>\n",
       "      <td>M</td>\n",
       "      <td>MATT</td>\n",
       "    </tr>\n",
       "    <tr>\n",
       "      <th>2016</th>\n",
       "      <td>F</td>\n",
       "      <td>BARBARA</td>\n",
       "    </tr>\n",
       "    <tr>\n",
       "      <th>2016</th>\n",
       "      <td>F</td>\n",
       "      <td>ALICIA</td>\n",
       "    </tr>\n",
       "    <tr>\n",
       "      <th>2016</th>\n",
       "      <td>F</td>\n",
       "      <td>LINDA</td>\n",
       "    </tr>\n",
       "    <tr>\n",
       "      <th>2016</th>\n",
       "      <td>M</td>\n",
       "      <td>MARVIN</td>\n",
       "    </tr>\n",
       "    <tr>\n",
       "      <th>2016</th>\n",
       "      <td>F</td>\n",
       "      <td>JANE</td>\n",
       "    </tr>\n",
       "    <tr>\n",
       "      <th>2016</th>\n",
       "      <td>M</td>\n",
       "      <td>FRED</td>\n",
       "    </tr>\n",
       "    <tr>\n",
       "      <th>2016</th>\n",
       "      <td>F</td>\n",
       "      <td>BONNIE</td>\n",
       "    </tr>\n",
       "    <tr>\n",
       "      <th>2016</th>\n",
       "      <td>F</td>\n",
       "      <td>PAMELA</td>\n",
       "    </tr>\n",
       "    <tr>\n",
       "      <th>2016</th>\n",
       "      <td>M</td>\n",
       "      <td>KENNETH</td>\n",
       "    </tr>\n",
       "    <tr>\n",
       "      <th>2016</th>\n",
       "      <td>F</td>\n",
       "      <td>BETTY</td>\n",
       "    </tr>\n",
       "    <tr>\n",
       "      <th>2016</th>\n",
       "      <td>F</td>\n",
       "      <td>WENDY</td>\n",
       "    </tr>\n",
       "    <tr>\n",
       "      <th>2016</th>\n",
       "      <td>F</td>\n",
       "      <td>ANDREA</td>\n",
       "    </tr>\n",
       "    <tr>\n",
       "      <th>2016</th>\n",
       "      <td>M</td>\n",
       "      <td>JAMES</td>\n",
       "    </tr>\n",
       "    <tr>\n",
       "      <th>2016</th>\n",
       "      <td>F</td>\n",
       "      <td>DENYSE</td>\n",
       "    </tr>\n",
       "    <tr>\n",
       "      <th>2016</th>\n",
       "      <td>M</td>\n",
       "      <td>DOMINIC</td>\n",
       "    </tr>\n",
       "    <tr>\n",
       "      <th>2016</th>\n",
       "      <td>M</td>\n",
       "      <td>J.</td>\n",
       "    </tr>\n",
       "    <tr>\n",
       "      <th>2016</th>\n",
       "      <td>M</td>\n",
       "      <td>NOBUAKI</td>\n",
       "    </tr>\n",
       "    <tr>\n",
       "      <th>2016</th>\n",
       "      <td>F</td>\n",
       "      <td>JULIA</td>\n",
       "    </tr>\n",
       "  </tbody>\n",
       "</table>\n",
       "<p>41427 rows × 2 columns</p>\n",
       "</div>"
      ],
      "text/plain": [
       "     gender firstname\n",
       "year                 \n",
       "2015      M      PAUL\n",
       "2015      M    STEVEN\n",
       "2015      M    EDWARD\n",
       "2015      M     ALLEN\n",
       "2015      M   GREGORY\n",
       "2015      F     LINDA\n",
       "2015      F     WILMA\n",
       "2015      F   SUZANNE\n",
       "2015      M   RICHARD\n",
       "2015      M   STEPHEN\n",
       "2015      F    SHEILA\n",
       "2015      F   CHARLES\n",
       "2015      F    NOELLA\n",
       "2015      F     LYNNE\n",
       "2015      M    MURRAY\n",
       "2015      M    ROBERT\n",
       "2015      F     ALICE\n",
       "2015      F  MARGARET\n",
       "2015      M    MARTIN\n",
       "2015      M     JAMES\n",
       "2015      F   LILLIAN\n",
       "2015      M    ROBERT\n",
       "2015      F  JEANETTE\n",
       "2015      F     GAYLE\n",
       "2015      M     KEITH\n",
       "2015      F   BARBARA\n",
       "2015      F    SANDRA\n",
       "2015      M   CHARLES\n",
       "2015      F     DIANE\n",
       "2015      M       KEN\n",
       "...     ...       ...\n",
       "2016      M    HOWARD\n",
       "2016      M      BILL\n",
       "2016      F     AJAYA\n",
       "2016      M      TONY\n",
       "2016      M      MARC\n",
       "2016      F       ANN\n",
       "2016      M      LUIZ\n",
       "2016      M    DANIEL\n",
       "2016      M      TONY\n",
       "2016      F    DEBORA\n",
       "2016      F     CAROL\n",
       "2016      M      MATT\n",
       "2016      F   BARBARA\n",
       "2016      F    ALICIA\n",
       "2016      F     LINDA\n",
       "2016      M    MARVIN\n",
       "2016      F      JANE\n",
       "2016      M      FRED\n",
       "2016      F    BONNIE\n",
       "2016      F    PAMELA\n",
       "2016      M   KENNETH\n",
       "2016      F     BETTY\n",
       "2016      F     WENDY\n",
       "2016      F    ANDREA\n",
       "2016      M     JAMES\n",
       "2016      F    DENYSE\n",
       "2016      M   DOMINIC\n",
       "2016      M        J.\n",
       "2016      M   NOBUAKI\n",
       "2016      F     JULIA\n",
       "\n",
       "[41427 rows x 2 columns]"
      ]
     },
     "execution_count": 14,
     "metadata": {},
     "output_type": "execute_result"
    }
   ],
   "source": [
    "# zmiana nazwy kolumny\n",
    "genderDF.rename(columns={'orderdate': 'year'}, inplace=True)\n",
    "# reindeksacja według kolumny 'year'\n",
    "genderDF = genderDF.set_index(\"year\")\n",
    "# usunięcie pustych krotek\n",
    "genderDF = genderDF.dropna()\n",
    "# posortowanie rekordów po indexie\n",
    "genderDF.sort_index()"
   ]
  },
  {
   "cell_type": "code",
   "execution_count": 15,
   "metadata": {},
   "outputs": [
    {
     "data": {
      "text/plain": [
       "<matplotlib.axes._subplots.AxesSubplot at 0x1e365de6630>"
      ]
     },
     "execution_count": 15,
     "metadata": {},
     "output_type": "execute_result"
    },
    {
     "data": {
      "image/png": "[encoded data removed]",
      "text/plain": [
       "<matplotlib.figure.Figure at 0x1e365de6fd0>"
      ]
     },
     "metadata": {},
     "output_type": "display_data"
    }
   ],
   "source": [
    "# policzenie liczby kobiet i mężczyzn w DataFrame\n",
    "genderCounts = pd.value_counts(genderDF['gender'].values, sort=False)\n",
    "# rysowanie wykresu\n",
    "genderCounts[:].plot(kind='barh', rot=0)"
   ]
  },
  {
   "cell_type": "code",
   "execution_count": 17,
   "metadata": {},
   "outputs": [
    {
     "data": {
      "text/html": [
       "<div>\n",
       "<style>\n",
       "    .dataframe thead tr:only-child th {\n",
       "        text-align: right;\n",
       "    }\n",
       "\n",
       "    .dataframe thead th {\n",
       "        text-align: left;\n",
       "    }\n",
       "\n",
       "    .dataframe tbody tr th {\n",
       "        vertical-align: top;\n",
       "    }\n",
       "</style>\n",
       "<table border=\"1\" class=\"dataframe\">\n",
       "  <thead>\n",
       "    <tr style=\"text-align: right;\">\n",
       "      <th></th>\n",
       "      <th>PRODUCTGROUPNAME</th>\n",
       "      <th>INSTOCKFLAG</th>\n",
       "      <th>unitprice</th>\n",
       "    </tr>\n",
       "  </thead>\n",
       "  <tbody>\n",
       "    <tr>\n",
       "      <th>160805</th>\n",
       "      <td>ARTWORK</td>\n",
       "      <td>Y</td>\n",
       "      <td>6250.00</td>\n",
       "    </tr>\n",
       "    <tr>\n",
       "      <th>160804</th>\n",
       "      <td>ARTWORK</td>\n",
       "      <td>Y</td>\n",
       "      <td>6250.00</td>\n",
       "    </tr>\n",
       "    <tr>\n",
       "      <th>160803</th>\n",
       "      <td>ARTWORK</td>\n",
       "      <td>Y</td>\n",
       "      <td>5967.37</td>\n",
       "    </tr>\n",
       "    <tr>\n",
       "      <th>160763</th>\n",
       "      <td>ARTWORK</td>\n",
       "      <td>Y</td>\n",
       "      <td>3165.00</td>\n",
       "    </tr>\n",
       "    <tr>\n",
       "      <th>160764</th>\n",
       "      <td>ARTWORK</td>\n",
       "      <td>Y</td>\n",
       "      <td>3165.00</td>\n",
       "    </tr>\n",
       "    <tr>\n",
       "      <th>160811</th>\n",
       "      <td>ARTWORK</td>\n",
       "      <td>Y</td>\n",
       "      <td>3145.00</td>\n",
       "    </tr>\n",
       "    <tr>\n",
       "      <th>160762</th>\n",
       "      <td>ARTWORK</td>\n",
       "      <td>Y</td>\n",
       "      <td>3127.00</td>\n",
       "    </tr>\n",
       "    <tr>\n",
       "      <th>160769</th>\n",
       "      <td>ARTWORK</td>\n",
       "      <td>Y</td>\n",
       "      <td>3000.00</td>\n",
       "    </tr>\n",
       "    <tr>\n",
       "      <th>160756</th>\n",
       "      <td>ARTWORK</td>\n",
       "      <td>Y</td>\n",
       "      <td>3000.00</td>\n",
       "    </tr>\n",
       "    <tr>\n",
       "      <th>160755</th>\n",
       "      <td>ARTWORK</td>\n",
       "      <td>Y</td>\n",
       "      <td>3000.00</td>\n",
       "    </tr>\n",
       "    <tr>\n",
       "      <th>160754</th>\n",
       "      <td>ARTWORK</td>\n",
       "      <td>Y</td>\n",
       "      <td>3000.00</td>\n",
       "    </tr>\n",
       "    <tr>\n",
       "      <th>160760</th>\n",
       "      <td>ARTWORK</td>\n",
       "      <td>Y</td>\n",
       "      <td>2848.50</td>\n",
       "    </tr>\n",
       "    <tr>\n",
       "      <th>160761</th>\n",
       "      <td>ARTWORK</td>\n",
       "      <td>Y</td>\n",
       "      <td>2848.50</td>\n",
       "    </tr>\n",
       "    <tr>\n",
       "      <th>160842</th>\n",
       "      <td>ARTWORK</td>\n",
       "      <td>Y</td>\n",
       "      <td>2848.50</td>\n",
       "    </tr>\n",
       "    <tr>\n",
       "      <th>267761</th>\n",
       "      <td>ARTWORK</td>\n",
       "      <td>Y</td>\n",
       "      <td>2750.00</td>\n",
       "    </tr>\n",
       "    <tr>\n",
       "      <th>263101</th>\n",
       "      <td>ARTWORK</td>\n",
       "      <td>Y</td>\n",
       "      <td>2750.00</td>\n",
       "    </tr>\n",
       "    <tr>\n",
       "      <th>160753</th>\n",
       "      <td>ARTWORK</td>\n",
       "      <td>Y</td>\n",
       "      <td>2700.00</td>\n",
       "    </tr>\n",
       "    <tr>\n",
       "      <th>160750</th>\n",
       "      <td>ARTWORK</td>\n",
       "      <td>Y</td>\n",
       "      <td>2665.00</td>\n",
       "    </tr>\n",
       "    <tr>\n",
       "      <th>160744</th>\n",
       "      <td>ARTWORK</td>\n",
       "      <td>Y</td>\n",
       "      <td>2665.00</td>\n",
       "    </tr>\n",
       "    <tr>\n",
       "      <th>160734</th>\n",
       "      <td>ARTWORK</td>\n",
       "      <td>Y</td>\n",
       "      <td>2665.00</td>\n",
       "    </tr>\n",
       "    <tr>\n",
       "      <th>160745</th>\n",
       "      <td>ARTWORK</td>\n",
       "      <td>Y</td>\n",
       "      <td>2665.00</td>\n",
       "    </tr>\n",
       "    <tr>\n",
       "      <th>160751</th>\n",
       "      <td>ARTWORK</td>\n",
       "      <td>Y</td>\n",
       "      <td>2665.00</td>\n",
       "    </tr>\n",
       "    <tr>\n",
       "      <th>160743</th>\n",
       "      <td>ARTWORK</td>\n",
       "      <td>Y</td>\n",
       "      <td>2665.00</td>\n",
       "    </tr>\n",
       "    <tr>\n",
       "      <th>160810</th>\n",
       "      <td>ARTWORK</td>\n",
       "      <td>Y</td>\n",
       "      <td>2645.00</td>\n",
       "    </tr>\n",
       "    <tr>\n",
       "      <th>160808</th>\n",
       "      <td>ARTWORK</td>\n",
       "      <td>Y</td>\n",
       "      <td>2645.00</td>\n",
       "    </tr>\n",
       "    <tr>\n",
       "      <th>160809</th>\n",
       "      <td>ARTWORK</td>\n",
       "      <td>Y</td>\n",
       "      <td>2645.00</td>\n",
       "    </tr>\n",
       "    <tr>\n",
       "      <th>160782</th>\n",
       "      <td>ARTWORK</td>\n",
       "      <td>Y</td>\n",
       "      <td>2638.00</td>\n",
       "    </tr>\n",
       "    <tr>\n",
       "      <th>160746</th>\n",
       "      <td>ARTWORK</td>\n",
       "      <td>Y</td>\n",
       "      <td>2500.00</td>\n",
       "    </tr>\n",
       "    <tr>\n",
       "      <th>160742</th>\n",
       "      <td>ARTWORK</td>\n",
       "      <td>Y</td>\n",
       "      <td>2500.00</td>\n",
       "    </tr>\n",
       "    <tr>\n",
       "      <th>17884</th>\n",
       "      <td>ARTWORK</td>\n",
       "      <td>Y</td>\n",
       "      <td>2500.00</td>\n",
       "    </tr>\n",
       "    <tr>\n",
       "      <th>...</th>\n",
       "      <td>...</td>\n",
       "      <td>...</td>\n",
       "      <td>...</td>\n",
       "    </tr>\n",
       "    <tr>\n",
       "      <th>285375</th>\n",
       "      <td>OCCASION</td>\n",
       "      <td>Y</td>\n",
       "      <td>2.25</td>\n",
       "    </tr>\n",
       "    <tr>\n",
       "      <th>285376</th>\n",
       "      <td>OCCASION</td>\n",
       "      <td>Y</td>\n",
       "      <td>2.25</td>\n",
       "    </tr>\n",
       "    <tr>\n",
       "      <th>285377</th>\n",
       "      <td>OCCASION</td>\n",
       "      <td>Y</td>\n",
       "      <td>2.25</td>\n",
       "    </tr>\n",
       "    <tr>\n",
       "      <th>285378</th>\n",
       "      <td>OCCASION</td>\n",
       "      <td>Y</td>\n",
       "      <td>2.25</td>\n",
       "    </tr>\n",
       "    <tr>\n",
       "      <th>285371</th>\n",
       "      <td>OCCASION</td>\n",
       "      <td>Y</td>\n",
       "      <td>2.25</td>\n",
       "    </tr>\n",
       "    <tr>\n",
       "      <th>174863</th>\n",
       "      <td>GAME</td>\n",
       "      <td>Y</td>\n",
       "      <td>2.15</td>\n",
       "    </tr>\n",
       "    <tr>\n",
       "      <th>173807</th>\n",
       "      <td>GAME</td>\n",
       "      <td>Y</td>\n",
       "      <td>2.05</td>\n",
       "    </tr>\n",
       "    <tr>\n",
       "      <th>262384</th>\n",
       "      <td>BOOK</td>\n",
       "      <td>Y</td>\n",
       "      <td>1.96</td>\n",
       "    </tr>\n",
       "    <tr>\n",
       "      <th>215364</th>\n",
       "      <td>GAME</td>\n",
       "      <td>Y</td>\n",
       "      <td>1.95</td>\n",
       "    </tr>\n",
       "    <tr>\n",
       "      <th>171782</th>\n",
       "      <td>GAME</td>\n",
       "      <td>Y</td>\n",
       "      <td>1.95</td>\n",
       "    </tr>\n",
       "    <tr>\n",
       "      <th>216287</th>\n",
       "      <td>GAME</td>\n",
       "      <td>Y</td>\n",
       "      <td>1.87</td>\n",
       "    </tr>\n",
       "    <tr>\n",
       "      <th>265579</th>\n",
       "      <td>CALENDAR</td>\n",
       "      <td>Y</td>\n",
       "      <td>1.82</td>\n",
       "    </tr>\n",
       "    <tr>\n",
       "      <th>285369</th>\n",
       "      <td>OCCASION</td>\n",
       "      <td>Y</td>\n",
       "      <td>1.75</td>\n",
       "    </tr>\n",
       "    <tr>\n",
       "      <th>285370</th>\n",
       "      <td>OCCASION</td>\n",
       "      <td>Y</td>\n",
       "      <td>1.75</td>\n",
       "    </tr>\n",
       "    <tr>\n",
       "      <th>164099</th>\n",
       "      <td>BOOK</td>\n",
       "      <td>Y</td>\n",
       "      <td>1.62</td>\n",
       "    </tr>\n",
       "    <tr>\n",
       "      <th>215363</th>\n",
       "      <td>GAME</td>\n",
       "      <td>Y</td>\n",
       "      <td>1.60</td>\n",
       "    </tr>\n",
       "    <tr>\n",
       "      <th>215362</th>\n",
       "      <td>GAME</td>\n",
       "      <td>Y</td>\n",
       "      <td>1.60</td>\n",
       "    </tr>\n",
       "    <tr>\n",
       "      <th>721</th>\n",
       "      <td>BOOK</td>\n",
       "      <td>Y</td>\n",
       "      <td>1.50</td>\n",
       "    </tr>\n",
       "    <tr>\n",
       "      <th>254958</th>\n",
       "      <td>GAME</td>\n",
       "      <td>Y</td>\n",
       "      <td>1.47</td>\n",
       "    </tr>\n",
       "    <tr>\n",
       "      <th>139334</th>\n",
       "      <td>BOOK</td>\n",
       "      <td>Y</td>\n",
       "      <td>1.44</td>\n",
       "    </tr>\n",
       "    <tr>\n",
       "      <th>266759</th>\n",
       "      <td>APPAREL</td>\n",
       "      <td>Y</td>\n",
       "      <td>1.40</td>\n",
       "    </tr>\n",
       "    <tr>\n",
       "      <th>271655</th>\n",
       "      <td>GAME</td>\n",
       "      <td>Y</td>\n",
       "      <td>1.30</td>\n",
       "    </tr>\n",
       "    <tr>\n",
       "      <th>179148</th>\n",
       "      <td>BOOK</td>\n",
       "      <td>Y</td>\n",
       "      <td>1.30</td>\n",
       "    </tr>\n",
       "    <tr>\n",
       "      <th>173806</th>\n",
       "      <td>GAME</td>\n",
       "      <td>Y</td>\n",
       "      <td>0.95</td>\n",
       "    </tr>\n",
       "    <tr>\n",
       "      <th>271699</th>\n",
       "      <td>GAME</td>\n",
       "      <td>Y</td>\n",
       "      <td>0.92</td>\n",
       "    </tr>\n",
       "    <tr>\n",
       "      <th>35516</th>\n",
       "      <td>GAME</td>\n",
       "      <td>Y</td>\n",
       "      <td>0.66</td>\n",
       "    </tr>\n",
       "    <tr>\n",
       "      <th>93138</th>\n",
       "      <td>OCCASION</td>\n",
       "      <td>Y</td>\n",
       "      <td>0.64</td>\n",
       "    </tr>\n",
       "    <tr>\n",
       "      <th>183281</th>\n",
       "      <td>GAME</td>\n",
       "      <td>Y</td>\n",
       "      <td>0.54</td>\n",
       "    </tr>\n",
       "    <tr>\n",
       "      <th>168517</th>\n",
       "      <td>BOOK</td>\n",
       "      <td>Y</td>\n",
       "      <td>0.20</td>\n",
       "    </tr>\n",
       "    <tr>\n",
       "      <th>94750</th>\n",
       "      <td>OCCASION</td>\n",
       "      <td>Y</td>\n",
       "      <td>0.08</td>\n",
       "    </tr>\n",
       "  </tbody>\n",
       "</table>\n",
       "<p>152098 rows × 3 columns</p>\n",
       "</div>"
      ],
      "text/plain": [
       "       PRODUCTGROUPNAME INSTOCKFLAG  unitprice\n",
       "160805          ARTWORK           Y    6250.00\n",
       "160804          ARTWORK           Y    6250.00\n",
       "160803          ARTWORK           Y    5967.37\n",
       "160763          ARTWORK           Y    3165.00\n",
       "160764          ARTWORK           Y    3165.00\n",
       "160811          ARTWORK           Y    3145.00\n",
       "160762          ARTWORK           Y    3127.00\n",
       "160769          ARTWORK           Y    3000.00\n",
       "160756          ARTWORK           Y    3000.00\n",
       "160755          ARTWORK           Y    3000.00\n",
       "160754          ARTWORK           Y    3000.00\n",
       "160760          ARTWORK           Y    2848.50\n",
       "160761          ARTWORK           Y    2848.50\n",
       "160842          ARTWORK           Y    2848.50\n",
       "267761          ARTWORK           Y    2750.00\n",
       "263101          ARTWORK           Y    2750.00\n",
       "160753          ARTWORK           Y    2700.00\n",
       "160750          ARTWORK           Y    2665.00\n",
       "160744          ARTWORK           Y    2665.00\n",
       "160734          ARTWORK           Y    2665.00\n",
       "160745          ARTWORK           Y    2665.00\n",
       "160751          ARTWORK           Y    2665.00\n",
       "160743          ARTWORK           Y    2665.00\n",
       "160810          ARTWORK           Y    2645.00\n",
       "160808          ARTWORK           Y    2645.00\n",
       "160809          ARTWORK           Y    2645.00\n",
       "160782          ARTWORK           Y    2638.00\n",
       "160746          ARTWORK           Y    2500.00\n",
       "160742          ARTWORK           Y    2500.00\n",
       "17884           ARTWORK           Y    2500.00\n",
       "...                 ...         ...        ...\n",
       "285375         OCCASION           Y       2.25\n",
       "285376         OCCASION           Y       2.25\n",
       "285377         OCCASION           Y       2.25\n",
       "285378         OCCASION           Y       2.25\n",
       "285371         OCCASION           Y       2.25\n",
       "174863             GAME           Y       2.15\n",
       "173807             GAME           Y       2.05\n",
       "262384             BOOK           Y       1.96\n",
       "215364             GAME           Y       1.95\n",
       "171782             GAME           Y       1.95\n",
       "216287             GAME           Y       1.87\n",
       "265579         CALENDAR           Y       1.82\n",
       "285369         OCCASION           Y       1.75\n",
       "285370         OCCASION           Y       1.75\n",
       "164099             BOOK           Y       1.62\n",
       "215363             GAME           Y       1.60\n",
       "215362             GAME           Y       1.60\n",
       "721                BOOK           Y       1.50\n",
       "254958             GAME           Y       1.47\n",
       "139334             BOOK           Y       1.44\n",
       "266759          APPAREL           Y       1.40\n",
       "271655             GAME           Y       1.30\n",
       "179148             BOOK           Y       1.30\n",
       "173806             GAME           Y       0.95\n",
       "271699             GAME           Y       0.92\n",
       "35516              GAME           Y       0.66\n",
       "93138          OCCASION           Y       0.64\n",
       "183281             GAME           Y       0.54\n",
       "168517             BOOK           Y       0.20\n",
       "94750          OCCASION           Y       0.08\n",
       "\n",
       "[152098 rows x 3 columns]"
      ]
     },
     "execution_count": 17,
     "metadata": {},
     "output_type": "execute_result"
    }
   ],
   "source": [
    "# wczytanie informacji o grupach produktów\n",
    "selectProductGroupsQuery = '''select p.PRODUCTGROUPNAME, p.INSTOCKFLAG, ol.unitprice from Products p \n",
    "                              join Orderlines ol on p.productid = ol.productid'''\n",
    "groupsDF = pd.read_sql_query(selectProductGroupsQuery, dbConnection)\n",
    "groupsDF = groupsDF.dropna()\n",
    "# eliminacja rekordów które w kolumnie 'PRODUCTGROUPNAME' są ustawione na 'FREEBIE'\n",
    "groupsDF = groupsDF[groupsDF[\"PRODUCTGROUPNAME\"] != \"FREEBIE\"]\n",
    "# czy jest w magazynie\n",
    "groupsDF = groupsDF[groupsDF[\"INSTOCKFLAG\"] == 'Y']  \n",
    "# czy eliminacja wartości  jednostkowej równej zero\n",
    "groupsDF = groupsDF[groupsDF[\"unitprice\"] > 0]       \n",
    "# sortowanie\n",
    "groupsDF.sort_values(\"unitprice\", ascending=False)"
   ]
  },
  {
   "cell_type": "code",
   "execution_count": 26,
   "metadata": {},
   "outputs": [
    {
     "data": {
      "text/html": [
       "<div>\n",
       "<style>\n",
       "    .dataframe thead tr:only-child th {\n",
       "        text-align: right;\n",
       "    }\n",
       "\n",
       "    .dataframe thead th {\n",
       "        text-align: left;\n",
       "    }\n",
       "\n",
       "    .dataframe tbody tr th {\n",
       "        vertical-align: top;\n",
       "    }\n",
       "</style>\n",
       "<table border=\"1\" class=\"dataframe\">\n",
       "  <thead>\n",
       "    <tr style=\"text-align: right;\">\n",
       "      <th></th>\n",
       "      <th>unitprice</th>\n",
       "    </tr>\n",
       "    <tr>\n",
       "      <th>PRODUCTGROUPNAME</th>\n",
       "      <th></th>\n",
       "    </tr>\n",
       "  </thead>\n",
       "  <tbody>\n",
       "    <tr>\n",
       "      <th>APPAREL</th>\n",
       "      <td>26.508976</td>\n",
       "    </tr>\n",
       "    <tr>\n",
       "      <th>ARTWORK</th>\n",
       "      <td>198.450770</td>\n",
       "    </tr>\n",
       "    <tr>\n",
       "      <th>BOOK</th>\n",
       "      <td>22.146146</td>\n",
       "    </tr>\n",
       "    <tr>\n",
       "      <th>CALENDAR</th>\n",
       "      <td>23.780366</td>\n",
       "    </tr>\n",
       "    <tr>\n",
       "      <th>GAME</th>\n",
       "      <td>21.425332</td>\n",
       "    </tr>\n",
       "    <tr>\n",
       "      <th>OCCASION</th>\n",
       "      <td>22.716397</td>\n",
       "    </tr>\n",
       "    <tr>\n",
       "      <th>OTHER</th>\n",
       "      <td>41.458258</td>\n",
       "    </tr>\n",
       "  </tbody>\n",
       "</table>\n",
       "</div>"
      ],
      "text/plain": [
       "                   unitprice\n",
       "PRODUCTGROUPNAME            \n",
       "APPAREL            26.508976\n",
       "ARTWORK           198.450770\n",
       "BOOK               22.146146\n",
       "CALENDAR           23.780366\n",
       "GAME               21.425332\n",
       "OCCASION           22.716397\n",
       "OTHER              41.458258"
      ]
     },
     "execution_count": 26,
     "metadata": {},
     "output_type": "execute_result"
    }
   ],
   "source": [
    "# policzenie średniej dla typoów produktów\n",
    "groupsDF = groupsDF.groupby([\"PRODUCTGROUPNAME\"]).mean()"
   ]
  },
  {
   "cell_type": "code",
   "execution_count": 25,
   "metadata": {},
   "outputs": [
    {
     "data": {
      "text/plain": [
       "array([<matplotlib.axes._subplots.AxesSubplot object at 0x000001E35FF5D1D0>], dtype=object)"
      ]
     },
     "execution_count": 25,
     "metadata": {},
     "output_type": "execute_result"
    },
    {
     "data": {
      "image/png": "[encoded data removed]",
      "text/plain": [
       "<matplotlib.figure.Figure at 0x1e36024ba20>"
      ]
     },
     "metadata": {},
     "output_type": "display_data"
    }
   ],
   "source": [
    "# rysowanie wykresu\n",
    "groupsDF.plot(kind='pie', legend=True, subplots=True, figsize=(6, 6))"
   ]
  },
  {
   "cell_type": "code",
   "execution_count": 28,
   "metadata": {
    "collapsed": true
   },
   "outputs": [],
   "source": [
    "# wczytywanie informacji o produktrach powiązanych z zamówieniami i linią zamówieniową\n",
    "productQuery = '''\n",
    "SELECT ol.billdate, ol.totalprice, o.city, p.PRODUCTGROUPNAME\n",
    "FROM Orders o JOIN Orderlines ol ON o.orderid = ol.orderid \n",
    "JOIN Products p ON ol.productid = p.PRODUCTID\n",
    "'''"
   ]
  },
  {
   "cell_type": "code",
   "execution_count": 29,
   "metadata": {},
   "outputs": [
    {
     "data": {
      "text/html": [
       "<div>\n",
       "<style>\n",
       "    .dataframe thead tr:only-child th {\n",
       "        text-align: right;\n",
       "    }\n",
       "\n",
       "    .dataframe thead th {\n",
       "        text-align: left;\n",
       "    }\n",
       "\n",
       "    .dataframe tbody tr th {\n",
       "        vertical-align: top;\n",
       "    }\n",
       "</style>\n",
       "<table border=\"1\" class=\"dataframe\">\n",
       "  <thead>\n",
       "    <tr style=\"text-align: right;\">\n",
       "      <th></th>\n",
       "      <th>billdate</th>\n",
       "      <th>totalprice</th>\n",
       "      <th>city</th>\n",
       "      <th>PRODUCTGROUPNAME</th>\n",
       "    </tr>\n",
       "  </thead>\n",
       "  <tbody>\n",
       "    <tr>\n",
       "      <th>0</th>\n",
       "      <td>2009-11-12 00:00:00</td>\n",
       "      <td>175.00</td>\n",
       "      <td>NEWTON</td>\n",
       "      <td>ARTWORK</td>\n",
       "    </tr>\n",
       "    <tr>\n",
       "      <th>1</th>\n",
       "      <td>2009-11-26 00:00:00</td>\n",
       "      <td>10.00</td>\n",
       "      <td>NEWTON</td>\n",
       "      <td>ARTWORK</td>\n",
       "    </tr>\n",
       "    <tr>\n",
       "      <th>2</th>\n",
       "      <td>2009-10-23 00:00:00</td>\n",
       "      <td>5.00</td>\n",
       "      <td>NEWTON</td>\n",
       "      <td>OCCASION</td>\n",
       "    </tr>\n",
       "    <tr>\n",
       "      <th>3</th>\n",
       "      <td>2009-11-04 00:00:00</td>\n",
       "      <td>10.00</td>\n",
       "      <td>NEW ROCHELLE</td>\n",
       "      <td>ARTWORK</td>\n",
       "    </tr>\n",
       "    <tr>\n",
       "      <th>4</th>\n",
       "      <td>2011-06-06 00:00:00</td>\n",
       "      <td>17.61</td>\n",
       "      <td>MIAMI</td>\n",
       "      <td>OCCASION</td>\n",
       "    </tr>\n",
       "  </tbody>\n",
       "</table>\n",
       "</div>"
      ],
      "text/plain": [
       "              billdate  totalprice          city PRODUCTGROUPNAME\n",
       "0  2009-11-12 00:00:00      175.00        NEWTON          ARTWORK\n",
       "1  2009-11-26 00:00:00       10.00        NEWTON          ARTWORK\n",
       "2  2009-10-23 00:00:00        5.00        NEWTON         OCCASION\n",
       "3  2009-11-04 00:00:00       10.00  NEW ROCHELLE          ARTWORK\n",
       "4  2011-06-06 00:00:00       17.61         MIAMI         OCCASION"
      ]
     },
     "execution_count": 29,
     "metadata": {},
     "output_type": "execute_result"
    }
   ],
   "source": [
    "gamesDF = pd.read_sql_query(productQuery, dbConnection)\n",
    "gamesDF.head()"
   ]
  },
  {
   "cell_type": "code",
   "execution_count": 30,
   "metadata": {},
   "outputs": [
    {
     "name": "stdout",
     "output_type": "stream",
     "text": [
      "<class 'pandas.core.frame.DataFrame'>\n",
      "RangeIndex: 286017 entries, 0 to 286016\n",
      "Data columns (total 5 columns):\n",
      "billdate            286017 non-null datetime64[ns]\n",
      "totalprice          286017 non-null float64\n",
      "city                285983 non-null object\n",
      "PRODUCTGROUPNAME    286008 non-null object\n",
      "year                286017 non-null int64\n",
      "dtypes: datetime64[ns](1), float64(1), int64(1), object(2)\n",
      "memory usage: 10.9+ MB\n"
     ]
    }
   ],
   "source": [
    "# konwersja daty na rok (jako liczba całkowita)\n",
    "gamesDF[\"year\"] = gamesDF[\"billdate\"].str[:-15].astype(np.int64)\n",
    "gamesDF[\"billdate\"] = gamesDF[\"billdate\"].str[:-9]\n",
    "# usunięcie zer z daty i zapisanie ją jako typ datowy\n",
    "gamesDF[\"billdate\"] = pd.to_datetime(gamesDF[\"billdate\"])\n",
    "# sprawdzenie typu dla pewności czy konwersja zaszła poprawnie\n",
    "gamesDF.info()"
   ]
  },
  {
   "cell_type": "code",
   "execution_count": 31,
   "metadata": {},
   "outputs": [
    {
     "data": {
      "text/html": [
       "<div>\n",
       "<style>\n",
       "    .dataframe thead tr:only-child th {\n",
       "        text-align: right;\n",
       "    }\n",
       "\n",
       "    .dataframe thead th {\n",
       "        text-align: left;\n",
       "    }\n",
       "\n",
       "    .dataframe tbody tr th {\n",
       "        vertical-align: top;\n",
       "    }\n",
       "</style>\n",
       "<table border=\"1\" class=\"dataframe\">\n",
       "  <thead>\n",
       "    <tr style=\"text-align: right;\">\n",
       "      <th></th>\n",
       "      <th>totalprice</th>\n",
       "      <th>city</th>\n",
       "      <th>PRODUCTGROUPNAME</th>\n",
       "      <th>year</th>\n",
       "    </tr>\n",
       "    <tr>\n",
       "      <th>billdate</th>\n",
       "      <th></th>\n",
       "      <th></th>\n",
       "      <th></th>\n",
       "      <th></th>\n",
       "    </tr>\n",
       "  </thead>\n",
       "  <tbody>\n",
       "    <tr>\n",
       "      <th>2016-01-05</th>\n",
       "      <td>7.44</td>\n",
       "      <td>NEW YORK</td>\n",
       "      <td>GAME</td>\n",
       "      <td>2016</td>\n",
       "    </tr>\n",
       "    <tr>\n",
       "      <th>2016-01-07</th>\n",
       "      <td>13.49</td>\n",
       "      <td>NEW YORK</td>\n",
       "      <td>GAME</td>\n",
       "      <td>2016</td>\n",
       "    </tr>\n",
       "    <tr>\n",
       "      <th>2016-01-15</th>\n",
       "      <td>44.95</td>\n",
       "      <td>NEW YORK</td>\n",
       "      <td>GAME</td>\n",
       "      <td>2016</td>\n",
       "    </tr>\n",
       "    <tr>\n",
       "      <th>2016-01-25</th>\n",
       "      <td>44.95</td>\n",
       "      <td>NEW YORK</td>\n",
       "      <td>GAME</td>\n",
       "      <td>2016</td>\n",
       "    </tr>\n",
       "    <tr>\n",
       "      <th>2016-02-01</th>\n",
       "      <td>44.95</td>\n",
       "      <td>NEW YORK</td>\n",
       "      <td>GAME</td>\n",
       "      <td>2016</td>\n",
       "    </tr>\n",
       "  </tbody>\n",
       "</table>\n",
       "</div>"
      ],
      "text/plain": [
       "            totalprice      city PRODUCTGROUPNAME  year\n",
       "billdate                                               \n",
       "2016-01-05        7.44  NEW YORK             GAME  2016\n",
       "2016-01-07       13.49  NEW YORK             GAME  2016\n",
       "2016-01-15       44.95  NEW YORK             GAME  2016\n",
       "2016-01-25       44.95  NEW YORK             GAME  2016\n",
       "2016-02-01       44.95  NEW YORK             GAME  2016"
      ]
     },
     "execution_count": 31,
     "metadata": {},
     "output_type": "execute_result"
    }
   ],
   "source": [
    "# filtrowanie danych, wyszukiwanie produktów które są grami, i sprzedały się w 2016 roku w stanie Nowy York\n",
    "gamesDF = gamesDF[gamesDF[\"year\"] == 2016]\n",
    "gamesDF = gamesDF[gamesDF[\"city\"] == \"NEW YORK\"]\n",
    "gamesDF = gamesDF[gamesDF[\"PRODUCTGROUPNAME\"] == \"GAME\"]\n",
    "gamesDF = gamesDF.set_index(\"billdate\")\n",
    "gamesDF.head()"
   ]
  },
  {
   "cell_type": "code",
   "execution_count": 34,
   "metadata": {},
   "outputs": [
    {
     "data": {
      "text/plain": [
       "<matplotlib.axes._subplots.AxesSubplot at 0x1e369d17710>"
      ]
     },
     "execution_count": 34,
     "metadata": {},
     "output_type": "execute_result"
    },
    {
     "data": {
      "image/png": "[encoded data removed]",
      "text/plain": [
       "<matplotlib.figure.Figure at 0x1e369ad60b8>"
      ]
     },
     "metadata": {},
     "output_type": "display_data"
    }
   ],
   "source": [
    "# rysowanie wykresu\n",
    "gamesDF['totalprice'].plot(legend=True,figsize=(10,4))"
   ]
  },
  {
   "cell_type": "code",
   "execution_count": 35,
   "metadata": {
    "collapsed": true
   },
   "outputs": [],
   "source": [
    "# Tablica z zakresami wyrażona w dniach\n",
    "movingAvarages = [7,30,60,90]\n",
    "\n",
    "# Obliczanie średniej ruchomej\n",
    "for avarage in movingAvarages:\n",
    "    column_name = \"MA for %s days\" %(str(avarage))\n",
    "    gamesDF[column_name]=gamesDF['totalprice'].rolling(window=avarage).mean()"
   ]
  },
  {
   "cell_type": "code",
   "execution_count": 37,
   "metadata": {},
   "outputs": [
    {
     "data": {
      "text/plain": [
       "<matplotlib.axes._subplots.AxesSubplot at 0x1e368ec4160>"
      ]
     },
     "execution_count": 37,
     "metadata": {},
     "output_type": "execute_result"
    },
    {
     "data": {
      "image/png": "[encoded data removed]",
      "text/plain": [
       "<matplotlib.figure.Figure at 0x1e369e4cf60>"
      ]
     },
     "metadata": {},
     "output_type": "display_data"
    }
   ],
   "source": [
    "# rysowanie wykresu\n",
    "gamesDF[['totalprice','MA for 7 days','MA for 30 days','MA for 60 days','MA for 90 days']].plot(kind='area', stacked=False, subplots=False,figsize=(10,4))"
   ]
  },
  {
   "cell_type": "code",
   "execution_count": 38,
   "metadata": {},
   "outputs": [
    {
     "data": {
      "text/plain": [
       "<matplotlib.axes._subplots.AxesSubplot at 0x1e36a3275f8>"
      ]
     },
     "execution_count": 38,
     "metadata": {},
     "output_type": "execute_result"
    },
    {
     "data": {
      "image/png": "[encoded data removed]",
      "text/plain": [
       "<matplotlib.figure.Figure at 0x1e36938e710>"
      ]
     },
     "metadata": {},
     "output_type": "display_data"
    }
   ],
   "source": [
    "# pct_change - wyszukuje procentową zmianę dla każdego dnia\n",
    "gamesDF['Daily Return'] = gamesDF['totalprice'].pct_change()\n",
    "# Procentowy dzienny zwrot - wykres\n",
    "gamesDF['Daily Return'].plot(figsize=(12,4),legend=True,linestyle='--',marker='o')"
   ]
  },
  {
   "cell_type": "code",
   "execution_count": 182,
   "metadata": {
    "collapsed": true
   },
   "outputs": [],
   "source": [
    "dataFrame1= pd.read_sql_query('''select paymenttype,state, totalprice, customerid from Orders\n",
    "where state=\"DE\"''', dbConnection)"
   ]
  },
  {
   "cell_type": "code",
   "execution_count": 183,
   "metadata": {},
   "outputs": [
    {
     "ename": "SyntaxError",
     "evalue": "invalid syntax (<ipython-input-183-c21a58b970f6>, line 1)",
     "output_type": "error",
     "traceback": [
      "\u001b[1;36m  File \u001b[1;32m\"<ipython-input-183-c21a58b970f6>\"\u001b[1;36m, line \u001b[1;32m1\u001b[0m\n\u001b[1;33m    Sprawdzamy, które karty są najczęściej używane prez kilentów\u001b[0m\n\u001b[1;37m                          ^\u001b[0m\n\u001b[1;31mSyntaxError\u001b[0m\u001b[1;31m:\u001b[0m invalid syntax\n"
     ]
    }
   ],
   "source": [
    "# Sprawdzamy, które karty są najczęściej używane prez kilentów"
   ]
  },
  {
   "cell_type": "code",
   "execution_count": null,
   "metadata": {
    "collapsed": true
   },
   "outputs": [],
   "source": [
    "table1=pd.value_counts(dataFrame1[\"paymenttype\"].values)\n",
    "table1[:5]"
   ]
  },
  {
   "cell_type": "code",
   "execution_count": null,
   "metadata": {
    "collapsed": true
   },
   "outputs": [],
   "source": [
    "table1[:5].plot(marker=\"o\", color =\"r\")"
   ]
  },
  {
   "cell_type": "code",
   "execution_count": null,
   "metadata": {
    "collapsed": true
   },
   "outputs": [],
   "source": [
    "dataFrame2= pd.read_sql_query('''select state, totalprice from Orders''', dbConnection)"
   ]
  },
  {
   "cell_type": "code",
   "execution_count": null,
   "metadata": {
    "collapsed": true
   },
   "outputs": [],
   "source": [
    "Wydatki= pd.read_sql_query('''SELECT o.state, c.gender, o.totalprice  from Orders o join Customers c on o.customerid = c.customerid \n",
    "                    ''', dbConnection)"
   ]
  },
  {
   "cell_type": "code",
   "execution_count": null,
   "metadata": {
    "collapsed": true
   },
   "outputs": [],
   "source": [
    "# Sprawdzamy łączną kwotę wydaną w poszczególnych stanch "
   ]
  },
  {
   "cell_type": "code",
   "execution_count": null,
   "metadata": {
    "collapsed": true
   },
   "outputs": [],
   "source": [
    "Stany_wydatki=pd.value_counts(dataFrame2['state'].values)\n",
    "Stany_wydatki[:10]"
   ]
  },
  {
   "cell_type": "code",
   "execution_count": 184,
   "metadata": {},
   "outputs": [
    {
     "data": {
      "text/plain": [
       "<matplotlib.axes._subplots.AxesSubplot at 0x1bbb60d7f0>"
      ]
     },
     "execution_count": 184,
     "metadata": {},
     "output_type": "execute_result"
    },
    {
     "data": {
      "image/png": "[encoded data removed]",
      "text/plain": [
       "<matplotlib.figure.Figure at 0x1bbb60d6d8>"
      ]
     },
     "metadata": {},
     "output_type": "display_data"
    }
   ],
   "source": [
    "Stany_wydatki[:10].plot(marker ='o')"
   ]
  },
  {
   "cell_type": "code",
   "execution_count": 150,
   "metadata": {
    "collapsed": true
   },
   "outputs": [],
   "source": [
    "dataFrame3= pd.read_sql_query('''select state, gender, totalprice from Orders o join Customers c on o.customerid=c.customerid''', dbConnection)"
   ]
  },
  {
   "cell_type": "code",
   "execution_count": null,
   "metadata": {
    "collapsed": true
   },
   "outputs": [],
   "source": [
    "#Sprawdzamy kwotę wydatków dla każdej płc w stanach\n",
    "#z zanotowaną najwyższą kwotą sprzedaży"
   ]
  },
  {
   "cell_type": "code",
   "execution_count": 151,
   "metadata": {
    "collapsed": true
   },
   "outputs": [],
   "source": [
    "Genderwydatki=np.where(dataFrame3['gender']=='M', 'Mezczyzni','Kobiety')\n",
    "Genderwydatkitab=Wydatki.groupby(['state', Genderwydatki])\n",
    "Genderwydatkitabcounts = Genderwydatkitab.size().unstack().fillna(0)"
   ]
  },
  {
   "cell_type": "code",
   "execution_count": 152,
   "metadata": {
    "collapsed": true
   },
   "outputs": [],
   "source": [
    "tab1=Genderwydatkitabcounts.sort_values(\"Kobiety\", ascending=False)"
   ]
  },
  {
   "cell_type": "code",
   "execution_count": 153,
   "metadata": {},
   "outputs": [
    {
     "data": {
      "image/png": "[encoded data removed]",
      "text/plain": [
       "<matplotlib.figure.Figure at 0x1bc1bab908>"
      ]
     },
     "metadata": {},
     "output_type": "display_data"
    }
   ],
   "source": [
    "tab11=tab1[:10].plot(kind='barh', stacked=True)\n"
   ]
  }
 ],
 "metadata": {
  "kernelspec": {
   "display_name": "Python 3",
   "language": "python",
   "name": "python3"
  },
  "language_info": {
   "codemirror_mode": {
    "name": "ipython",
    "version": 3
   },
   "file_extension": ".py",
   "mimetype": "text/x-python",
   "name": "python",
   "nbconvert_exporter": "python",
   "pygments_lexer": "ipython3",
   "version": "3.6.3"
  }
 },
 "nbformat": 4,
 "nbformat_minor": 2
}
